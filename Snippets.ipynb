{
 "cells": [
  {
   "cell_type": "markdown",
   "id": "0a9b6095-4609-45dc-9632-260d48ae6e5b",
   "metadata": {},
   "source": [
    "## How I created the books.csv"
   ]
  },
  {
   "cell_type": "code",
   "execution_count": 4,
   "id": "0d82f5b5-6507-447d-a59c-5e1e4ff7d007",
   "metadata": {},
   "outputs": [],
   "source": [
    "import pandas as pd\n",
    "\n",
    "# Original data\n",
    "books_data = [\n",
    "    (\"The Great Gatsby\", \"F. Scott Fitzgerald\", \"Fiction\"),\n",
    "    (\"1984\", \"George Orwell\", \"Dystopian\"),\n",
    "    (\"To Kill a Mockingbird\", \"Harper Lee\", \"Fiction\"),\n",
    "    (\"Pride and Prejudice\", \"Jane Austen\", \"Romance\"),\n",
    "    (\"The Catcher in the Rye\", \"J.D. Salinger\", \"Fiction\"),\n",
    "    (\"Moby Dick\", \"Herman Melville\", \"Adventure\"),\n",
    "    (\"War and Peace\", \"Leo Tolstoy\", \"Historical\"),\n",
    "    (\"The Hobbit\", \"J.R.R. Tolkien\", \"Fantasy\"),\n",
    "    (\"Brave New World\", \"Aldous Huxley\", \"Dystopian\"),\n",
    "    (\"The Odyssey\", \"Homer\", \"Epic Poetry\"),\n",
    "    (\"Crime and Punishment\", \"Fyodor Dostoevsky\", \"Fiction\"),\n",
    "    (\"The Divine Comedy\", \"Dante Alighieri\", \"Classic\"),\n",
    "    (\"The Picture of Dorian Gray\", \"Oscar Wilde\", \"Fiction\"),\n",
    "    (\"The Road\", \"Cormac McCarthy\", \"Fiction\"),\n",
    "    (\"Frankenstein\", \"Mary Shelley\", \"Fiction\"),\n",
    "    (\"The Alchemist\", \"Paulo Coelho\", \"Fiction\"),\n",
    "    (\"Jane Eyre\", \"Charlotte Brontë\", \"Fiction\"),\n",
    "    (\"Animal Farm\", \"George Orwell\", \"Fiction\"),\n",
    "    (\"Wuthering Heights\", \"Emily Brontë\", \"Fiction\"),\n",
    "    (\"A Tale of Two Cities\", \"Charles Dickens\", \"Historical\"),\n",
    "    (\"Les Misérables\", \"Victor Hugo\", \"Fiction\"),\n",
    "    (\"The Shining\", \"Stephen King\", \"Horror\"),\n",
    "    (\"Dune\", \"Frank Herbert\", \"Science Fiction\"),\n",
    "    (\"Don Quixote\", \"Miguel de Cervantes\", \"Classic\"),\n",
    "    (\"Heart of Darkness\", \"Joseph Conrad\", \"Fiction\"),\n",
    "    (\"Dracula\", \"Bram Stoker\", \"Fiction\"),\n",
    "    (\"The Old Man and the Sea\", \"Ernest Hemingway\", \"Fiction\"),\n",
    "    (\"Ulysses\", \"James Joyce\", \"Fiction\"),\n",
    "    (\"The Brothers Karamazov\", \"Fyodor Dostoevsky\", \"Fiction\"),\n",
    "    (\"The Scarlet Letter\", \"Nathaniel Hawthorne\", \"Classic\"),\n",
    "    (\"Madame Bovary\", \"Gustave Flaubert\", \"Fiction\"),\n",
    "    (\"The Grapes of Wrath\", \"John Steinbeck\", \"Fiction\"),\n",
    "    (\"Fahrenheit 451\", \"Ray Bradbury\", \"Dystopian\"),\n",
    "    (\"Lolita\", \"Vladimir Nabokov\", \"Fiction\"),\n",
    "    (\"Slaughterhouse-Five\", \"Kurt Vonnegut\", \"Science Fiction\"),\n",
    "    (\"The Handmaid's Tale\", \"Margaret Atwood\", \"Dystopian\"),\n",
    "    (\"The Metamorphosis\", \"Franz Kafka\", \"Fiction\"),\n",
    "    (\"The Secret Garden\", \"Frances Hodgson Burnett\", \"Fiction\"),\n",
    "    (\"The Jungle Book\", \"Rudyard Kipling\", \"Fiction\"),\n",
    "]\n",
    "\n",
    "books_df = pd.DataFrame(books_data, columns=[\"Title\", \"Author\", \"Genre\"])\n",
    "books_df.to_csv(\"books.csv\", index=False)"
   ]
  }
 ],
 "metadata": {
  "kernelspec": {
   "display_name": "Python 3 (ipykernel)",
   "language": "python",
   "name": "python3"
  },
  "language_info": {
   "codemirror_mode": {
    "name": "ipython",
    "version": 3
   },
   "file_extension": ".py",
   "mimetype": "text/x-python",
   "name": "python",
   "nbconvert_exporter": "python",
   "pygments_lexer": "ipython3",
   "version": "3.12.2"
  }
 },
 "nbformat": 4,
 "nbformat_minor": 5
}
